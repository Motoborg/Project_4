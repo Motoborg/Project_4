{
 "cells": [
  {
   "cell_type": "markdown",
   "id": "c353de9a",
   "metadata": {},
   "source": [
    "# Проект: классификация"
   ]
  },
  {
   "cell_type": "code",
   "execution_count": 2,
   "id": "4a6e54dc",
   "metadata": {},
   "outputs": [],
   "source": [
    "import pandas as pd\n",
    "import numpy as np\n",
    "import statistics as st\n",
    "import matplotlib.pyplot as plt\n",
    "import seaborn as sns\n",
    "from  sklearn.ensemble import IsolationForest\n",
    "import warnings\n",
    "warnings.filterwarnings('ignore')\n",
    "from sklearn.preprocessing  import LabelEncoder\n",
    "from sklearn import linear_model \n",
    "from sklearn import tree \n",
    "from sklearn import ensemble \n",
    "from sklearn import metrics \n",
    "from sklearn import preprocessing \n",
    "from sklearn.model_selection import train_test_split \n",
    "from sklearn.feature_selection import SelectKBest, f_classif\n"
   ]
  },
  {
   "cell_type": "markdown",
   "id": "71559b60",
   "metadata": {},
   "source": [
    "## Часть 1. Знакомство с данными, обработка пропусков и выбросов\n",
    "\n",
    "**Данные о клиентах банка:**\n",
    "\n",
    "  * age (возраст);\n",
    "  * job (сфера занятости);\n",
    "  * marital (семейное положение);\n",
    "  * education (уровень образования);\n",
    "  * default (имеется ли просроченный кредит);\n",
    "  * housing (имеется ли кредит на жильё);\n",
    "  * loan (имеется ли кредит на личные нужды);\n",
    "  * balance (баланс).\n",
    "\n",
    "**Данные, связанные с последним контактом в контексте текущей маркетинговой кампании:**\n",
    "\n",
    "  * contact (тип контакта с клиентом);\n",
    "  * month (месяц, в котором был последний контакт);\n",
    "  * day (день, в который был последний контакт);\n",
    "  * duration (продолжительность контакта в секундах).\n",
    "\n",
    "**Прочие признаки:**\n",
    "\n",
    "  * campaign (количество контактов с этим клиентом в течение текущей кампании);\n",
    "  * pdays (количество пропущенных дней с момента последней маркетинговой кампании до контакта в текущей кампании);\n",
    "  * previous (количество контактов до текущей кампании)\n",
    "  * poutcome (результат прошлой маркетинговой кампании).\n",
    "\n",
    "Целевая переменная **deposit**, которая определяет, согласится ли клиент открыть депозит в банке. Именно её необходимо предсказать."
   ]
  },
  {
   "cell_type": "markdown",
   "id": "7c5e31b2",
   "metadata": {},
   "source": [
    "### Задание 1"
   ]
  },
  {
   "cell_type": "code",
   "execution_count": 3,
   "id": "20730cd7",
   "metadata": {},
   "outputs": [],
   "source": [
    "df = pd.read_csv('data/bank_fin.csv', sep = ';')"
   ]
  },
  {
   "cell_type": "code",
   "execution_count": 4,
   "id": "ba11dc67",
   "metadata": {},
   "outputs": [
    {
     "name": "stdout",
     "output_type": "stream",
     "text": [
      "<class 'pandas.core.frame.DataFrame'>\n",
      "RangeIndex: 11162 entries, 0 to 11161\n",
      "Data columns (total 17 columns):\n",
      " #   Column     Non-Null Count  Dtype \n",
      "---  ------     --------------  ----- \n",
      " 0   age        11162 non-null  int64 \n",
      " 1   job        11162 non-null  object\n",
      " 2   marital    11162 non-null  object\n",
      " 3   education  11162 non-null  object\n",
      " 4   default    11162 non-null  object\n",
      " 5   balance    11137 non-null  object\n",
      " 6   housing    11162 non-null  object\n",
      " 7   loan       11162 non-null  object\n",
      " 8   contact    11162 non-null  object\n",
      " 9   day        11162 non-null  int64 \n",
      " 10  month      11162 non-null  object\n",
      " 11  duration   11162 non-null  int64 \n",
      " 12  campaign   11162 non-null  int64 \n",
      " 13  pdays      11162 non-null  int64 \n",
      " 14  previous   11162 non-null  int64 \n",
      " 15  poutcome   11162 non-null  object\n",
      " 16  deposit    11162 non-null  object\n",
      "dtypes: int64(6), object(11)\n",
      "memory usage: 1.4+ MB\n",
      "None\n",
      "__________________________________________________________________________________________\n",
      "В признаке balance пропущено - 25 значений\n"
     ]
    }
   ],
   "source": [
    "# исследуйте данные на предмет пропусков. Где есть пропущенные значения? Сколько их?\n",
    "print(df.info())\n",
    "print('__________________________________________________________________________________________')\n",
    "print(f\"В признаке balance пропущено - {df[(df['balance'].isnull())].shape[0]} значений\")\n",
    "# df[(df['balance'].isnull())]"
   ]
  },
  {
   "cell_type": "markdown",
   "id": "6366f059",
   "metadata": {},
   "source": [
    "### Задание 2"
   ]
  },
  {
   "cell_type": "code",
   "execution_count": 5,
   "id": "98ea29d4",
   "metadata": {},
   "outputs": [
    {
     "name": "stdout",
     "output_type": "stream",
     "text": [
      "12\n",
      "['admin.' 'technician' 'services' 'management' 'retired' 'blue-collar'\n",
      " 'unemployed' 'entrepreneur' 'housemaid' 'unknown' 'self-employed'\n",
      " 'student']\n"
     ]
    },
    {
     "data": {
      "text/plain": [
       "management       2566\n",
       "blue-collar      1944\n",
       "technician       1823\n",
       "admin.           1334\n",
       "services          923\n",
       "retired           778\n",
       "self-employed     405\n",
       "student           360\n",
       "unemployed        357\n",
       "entrepreneur      328\n",
       "housemaid         274\n",
       "unknown            70\n",
       "Name: job, dtype: int64"
      ]
     },
     "execution_count": 5,
     "metadata": {},
     "output_type": "execute_result"
    }
   ],
   "source": [
    "# есть ли в признаке job пропущенные значения? Возможно, они обозначены каким-то специальным словом?\n",
    "print(df['job'].nunique())\n",
    "print(df['job'].unique())\n",
    "# \"администратор\", \"техник\", \"услуги\", \"менеджмент\", \"пенсионер\", \"рабочий\", \"безработный\", \n",
    "# \"предприниматель\", \"горничная\", \"неизвестный\", \"самозанятый\", \"студент\"\n",
    "# 'unknown' - можно считать пропуском, так как значение не соотвествует признаку\n",
    "df['job'].value_counts()"
   ]
  },
  {
   "cell_type": "markdown",
   "id": "8fcf4fcd",
   "metadata": {},
   "source": [
    "### Задание 3"
   ]
  },
  {
   "cell_type": "code",
   "execution_count": 6,
   "id": "3a01be5e",
   "metadata": {},
   "outputs": [
    {
     "data": {
      "text/plain": [
       "0        2343.0\n",
       "1          45.0\n",
       "2        1270.0\n",
       "3        2476.0\n",
       "4         184.0\n",
       "          ...  \n",
       "11157       1.0\n",
       "11158     733.0\n",
       "11159      29.0\n",
       "11160       0.0\n",
       "11161       0.0\n",
       "Name: balance, Length: 11162, dtype: float64"
      ]
     },
     "execution_count": 6,
     "metadata": {},
     "output_type": "execute_result"
    }
   ],
   "source": [
    "# преобразуйте признак balance таким образом, чтобы он корректно считывался, как вещественное число (float)\n",
    "temp_str = \"33333333333333,33\"   # временно заменим NAN\n",
    "df['balance'].fillna(temp_str , inplace=True)\n",
    "\n",
    "data_balance = df['balance']\n",
    "\n",
    "lam_bal = lambda x: float(x.replace(\" \", \"\").replace(\"$\", \"\").replace(\",\", \".\"))\n",
    "df['balance'] = data_balance.apply(lam_bal)\n",
    "\n",
    "df['balance']\n"
   ]
  },
  {
   "cell_type": "markdown",
   "id": "6de63fd7",
   "metadata": {},
   "source": [
    "### Задание 4"
   ]
  },
  {
   "cell_type": "code",
   "execution_count": 7,
   "id": "6a684a63",
   "metadata": {},
   "outputs": [
    {
     "data": {
      "text/plain": [
       "1529.129"
      ]
     },
     "execution_count": 7,
     "metadata": {},
     "output_type": "execute_result"
    }
   ],
   "source": [
    "# обработайте пропуски в признаки balance , заменив их на медианные значения по данному признаку\n",
    "\n",
    "df.loc[(df.balance == float(temp_str.replace(\",\", \".\" ))), ('balance')] = np.NAN  # возвращаем NAN, для расчёта среднего не искажённого выедённым значением\n",
    "mean_balance = round(df['balance'].mean(), 3)\n",
    "\n",
    "mean_balance"
   ]
  },
  {
   "cell_type": "markdown",
   "id": "1097ec42",
   "metadata": {},
   "source": [
    "### Задание 5"
   ]
  },
  {
   "cell_type": "code",
   "execution_count": 8,
   "id": "0fa070a6",
   "metadata": {},
   "outputs": [],
   "source": [
    "# обработайте пропуски в категориальных признаках: job и education, заменив их на модальные значения\n",
    "educ_mode = df['education'].mode()[0]\n",
    "job_mode = df['job'].mode()[0]\n",
    "# print(educ_mode)\n",
    "# print(job_mode)\n",
    "df['education'].value_counts() #  unknown - также является пропуском\n",
    "\n",
    "# job и education, меням на модальные значения\n",
    "df.loc[(df.education == 'unknown'), ('education')] = educ_mode\n",
    "df.loc[(df.job == 'unknown'), ('job')] = job_mode "
   ]
  },
  {
   "cell_type": "markdown",
   "id": "02af77c6",
   "metadata": {},
   "source": [
    "### Задание 6"
   ]
  },
  {
   "cell_type": "code",
   "execution_count": 9,
   "id": "3802cdd9",
   "metadata": {},
   "outputs": [
    {
     "name": "stdout",
     "output_type": "stream",
     "text": [
      "Средний баланс для клиентов с самой популярной работой и самым популярным уровнем образования: 1598.883\n",
      "Нижняя граница по методу Тьюки: -2241.0\n",
      "Верхняя граница по методу Тьюки: 4063.0\n",
      "Число выбросов по методу Тьюки: 1057\n",
      "Результирующее число записей: 10105\n"
     ]
    }
   ],
   "source": [
    "# удалите все выбросы для признака balance\n",
    "median_balance = df['balance'].median()\n",
    "\n",
    "df['balance'].fillna(median_balance , inplace=True)\n",
    "\n",
    "mask_educ = df['education'] == educ_mode\n",
    "mask_job = df['job'] == job_mode\n",
    "\n",
    "mean_bal_mode_2 = df[(mask_educ) & (mask_job)]['balance'].mean()\n",
    "\n",
    "print(f\"Средний баланс для клиентов с самой популярной работой и самым популярным уровнем образования: {round(mean_bal_mode_2, 3)}\")\n",
    "\n",
    "df_copy = df.copy\n",
    "\n",
    "# Поиск выбросов по методу Тьюки\n",
    "def outliers_iqr_mod(data, feature, left=1.5, right=1.5):\n",
    "    \"\"\"    \n",
    "    Добавьте в нее параметры left и right, которые задают число IQR влево и вправо от границ ящика (пусть по умолчанию они равны 1.5).\n",
    "    Функция, как и раньше должна возвращать потенциальные выбросы и очищенный DataFrame.\n",
    "    \"\"\"\n",
    "    x = data[feature]\n",
    "    quartile_1, quartile_3 = x.quantile(0.25), x.quantile(0.75),\n",
    "    iqr = quartile_3 - quartile_1\n",
    "    lower_bound = quartile_1 - (iqr * left)\n",
    "    upper_bound = quartile_3 + (iqr * right)\n",
    "    outliers = data[(x<lower_bound) | (x > upper_bound)]\n",
    "    cleaned = data[(x>=lower_bound) & (x <= upper_bound)]\n",
    "    print(f'Нижняя граница по методу Тьюки: {lower_bound}')\n",
    "    print(f'Верхняя граница по методу Тьюки: {upper_bound}')\n",
    "    return outliers, cleaned\n",
    "\n",
    "outliers, cleaned = outliers_iqr_mod(df, 'balance', left=1.5, right=1.5)\n",
    "\n",
    "print(f'Число выбросов по методу Тьюки: {outliers.shape[0]}')\n",
    "print(f'Результирующее число записей: {cleaned.shape[0]}')\n",
    "\n",
    "outlers = df[(df['balance']>= -2241.0) | (df['balance']<= 4063.0)]\n",
    "df = df.drop(outliers.index)\n",
    "\n"
   ]
  },
  {
   "cell_type": "markdown",
   "id": "5d22b8cd",
   "metadata": {},
   "source": [
    "## Часть 2:  Разведывательный анализ"
   ]
  },
  {
   "cell_type": "markdown",
   "id": "21e1f083",
   "metadata": {},
   "source": [
    "### Задание 1"
   ]
  },
  {
   "cell_type": "code",
   "execution_count": 10,
   "id": "6d0cd3a8",
   "metadata": {},
   "outputs": [
    {
     "data": {
      "text/plain": [
       "no     5424\n",
       "yes    4681\n",
       "Name: deposit, dtype: int64"
      ]
     },
     "execution_count": 10,
     "metadata": {},
     "output_type": "execute_result"
    },
    {
     "data": {
      "image/png": "[encoded data removed]",
      "text/plain": [
       "<Figure size 432x288 with 1 Axes>"
      ]
     },
     "metadata": {
      "needs_background": "light"
     },
     "output_type": "display_data"
    }
   ],
   "source": [
    "# изучите соотношение классов в ваших данных на предмет несбалансированности, проиллюстрируйте результат\n",
    "sns.countplot(data=df, x='deposit')\n",
    "df['deposit'].value_counts()\n",
    "# Классы можно принять сбалансированными"
   ]
  },
  {
   "cell_type": "markdown",
   "id": "426b1d40",
   "metadata": {},
   "source": [
    "### Задания 2 и 3"
   ]
  },
  {
   "cell_type": "code",
   "execution_count": 11,
   "id": "603cdb3c",
   "metadata": {},
   "outputs": [
    {
     "name": "stdout",
     "output_type": "stream",
     "text": [
      "Максимальный возраст клиента банка: 95 лет.\n",
      "Минимальная продолжительность разговора с клиентом банка: 2 с.\n"
     ]
    }
   ],
   "source": [
    "# Рассчитайте описательные статистики для количественных переменных, проинтерпретируйте результат\n",
    "\n",
    "# Каков максимальный возраст клиента банка?\n",
    "print(f\"Максимальный возраст клиента банка: {df['age'].max()} лет.\")\n",
    "\n",
    "# Какова минимальная продолжительность разговора с клиентом банка? Ответ дайте в количестве секунд.\n",
    "print(f\"Минимальная продолжительность разговора с клиентом банка: {df['duration'].min()} с.\")\n"
   ]
  },
  {
   "cell_type": "markdown",
   "id": "821dc39e",
   "metadata": {},
   "source": [
    "### Задания 4 и 5"
   ]
  },
  {
   "cell_type": "code",
   "execution_count": 12,
   "id": "bf45afc9",
   "metadata": {},
   "outputs": [
    {
     "data": {
      "text/plain": [
       "Text(0, 0.5, 'Количество контактов в месяц')"
      ]
     },
     "execution_count": 12,
     "metadata": {},
     "output_type": "execute_result"
    },
    {
     "data": {
      "image/png": "[encoded data removed]",
      "text/plain": [
       "<Figure size 1080x360 with 1 Axes>"
      ]
     },
     "metadata": {
      "needs_background": "light"
     },
     "output_type": "display_data"
    },
    {
     "data": {
      "image/png": "[encoded data removed]",
      "text/plain": [
       "<Figure size 720x360 with 1 Axes>"
      ]
     },
     "metadata": {
      "needs_background": "light"
     },
     "output_type": "display_data"
    },
    {
     "data": {
      "image/png": "[encoded data removed]",
      "text/plain": [
       "<Figure size 720x360 with 1 Axes>"
      ]
     },
     "metadata": {
      "needs_background": "light"
     },
     "output_type": "display_data"
    },
    {
     "data": {
      "image/png": "[encoded data removed]",
      "text/plain": [
       "<Figure size 720x360 with 1 Axes>"
      ]
     },
     "metadata": {
      "needs_background": "light"
     },
     "output_type": "display_data"
    },
    {
     "data": {
      "image/png": "[encoded data removed]",
      "text/plain": [
       "<Figure size 432x288 with 1 Axes>"
      ]
     },
     "metadata": {
      "needs_background": "light"
     },
     "output_type": "display_data"
    }
   ],
   "source": [
    "# df.info()\n",
    "#рассчитайте описательные статистики для категориальных переменных, проинтерпретируйте результат\n",
    "df.describe(include = 'object')\n",
    "#постройте визуализации, иллюстрирующие результаты\n",
    "\n",
    "\n",
    "# Сколько всего сфер занятости представлено среди клиентов банка? \n",
    "fig_1 = plt.figure(figsize=(15, 5))\n",
    "barplot = sns.barplot(\n",
    "    data=df,\n",
    "    x='job',\n",
    "    y='balance',\n",
    "    hue='deposit'\n",
    ")\n",
    "barplot.set_title('Баланс у представителей сфер занятости среди клиентов банка') \n",
    "\n",
    "# В каждый ли месяц проходила маркетинговая кампания?\n",
    "fig_2_1 = plt.figure(figsize=(10, 5))\n",
    "barplot = sns.barplot(\n",
    "    data=df,\n",
    "    x='poutcome',\n",
    "    y='pdays',\n",
    "    hue='deposit'\n",
    ")\n",
    "barplot.set_title('Количество пропущенных дней с момента последней маркетинговой кампании в разрезе результата прошлой маркетинговой кампании')\n",
    "\n",
    "# Какое семейное положение встречается чаще всего? \n",
    "fig_3 = plt.figure(figsize=(10, 5))\n",
    "barplot = sns.barplot(\n",
    "    data=df,\n",
    "    x='marital',\n",
    "    y='balance',\n",
    "    hue='deposit'\n",
    ")\n",
    "barplot.set_title('Баланс клиентов банка с разным семейным положением')\n",
    "\n",
    "# А образование? \n",
    "fig_4 = plt.figure(figsize=(10, 5))\n",
    "barplot = sns.barplot(\n",
    "    data=df,\n",
    "    x='education',\n",
    "    y='balance',\n",
    "    hue='deposit'\n",
    ")\n",
    "barplot.set_title('Баланс клиентов банка с разным уровнем образования') \n",
    "\n",
    "fig = plt.figure() # facecolor='lightgreen'\n",
    "axes = fig.add_axes([0, 0, 1, 1])\n",
    "# axes.hist(df.groupby('month')['daily_vaccinations'].sum())\n",
    "axes.hist(df['month'])\n",
    "axes.set_ylabel('Количество контактов в месяц')\n"
   ]
  },
  {
   "cell_type": "markdown",
   "id": "472cff5b",
   "metadata": {},
   "source": [
    "### Задание 6"
   ]
  },
  {
   "cell_type": "code",
   "execution_count": 13,
   "id": "2d640ce1",
   "metadata": {},
   "outputs": [
    {
     "data": {
      "text/plain": [
       "no     5424\n",
       "yes    4681\n",
       "Name: deposit, dtype: int64"
      ]
     },
     "execution_count": 13,
     "metadata": {},
     "output_type": "execute_result"
    },
    {
     "data": {
      "image/png": "[encoded data removed]",
      "text/plain": [
       "<Figure size 432x288 with 1 Axes>"
      ]
     },
     "metadata": {
      "needs_background": "light"
     },
     "output_type": "display_data"
    }
   ],
   "source": [
    "# Узнайте, для какого статуса предыдущей маркетинговой кампании успех в текущей превалирует над количеством неудач.\n",
    "types = df.groupby(\"poutcome\")['deposit'].value_counts(normalize=False).unstack()\n",
    "types.plot(kind='bar', stacked='True')\n",
    "\n",
    "df['deposit'].value_counts()"
   ]
  },
  {
   "cell_type": "markdown",
   "id": "9c32e3aa",
   "metadata": {},
   "source": [
    "### Задание 7"
   ]
  },
  {
   "cell_type": "code",
   "execution_count": 14,
   "id": "df437ec3",
   "metadata": {},
   "outputs": [
    {
     "data": {
      "text/plain": [
       "<AxesSubplot:xlabel='month'>"
      ]
     },
     "execution_count": 14,
     "metadata": {},
     "output_type": "execute_result"
    },
    {
     "data": {
      "image/png": "[encoded data removed]",
      "text/plain": [
       "<Figure size 432x288 with 1 Axes>"
      ]
     },
     "metadata": {
      "needs_background": "light"
     },
     "output_type": "display_data"
    }
   ],
   "source": [
    "# узнайте, в каком месяце чаще всего отказывались от предложения открыть депозит\n",
    "types = df.groupby(\"month\")['deposit'].value_counts(normalize=False).unstack()\n",
    "types.plot(kind='bar', stacked='True')"
   ]
  },
  {
   "cell_type": "markdown",
   "id": "5f20762f",
   "metadata": {},
   "source": [
    "### Задание 8"
   ]
  },
  {
   "cell_type": "code",
   "execution_count": 15,
   "id": "95d56f1b",
   "metadata": {},
   "outputs": [
    {
     "data": {
      "text/plain": [
       "30-40    3961\n",
       "40-50    2382\n",
       "50-60    1654\n",
       "<30      1455\n",
       "60+       653\n",
       "Name: age_group, dtype: int64"
      ]
     },
     "execution_count": 15,
     "metadata": {},
     "output_type": "execute_result"
    },
    {
     "data": {
      "image/png": "[encoded data removed]",
      "text/plain": [
       "<Figure size 432x288 with 1 Axes>"
      ]
     },
     "metadata": {
      "needs_background": "light"
     },
     "output_type": "display_data"
    }
   ],
   "source": [
    "# создайте возрастные группы и определите, в каких группах более склонны открывать депозит, чем отказываться от предложения\n",
    "def age_group(age):\n",
    "    out = ''\n",
    "    if age<30: out = '<30'\n",
    "    if age>=30 and age<40: out = '30-40'\n",
    "    if age>=40 and age<50: out = '40-50'\n",
    "    if age>=50 and age<60: out = '50-60'\n",
    "    if age>=60: out = '60+'\n",
    "    return out\n",
    "    \n",
    "df['age_group'] = df['age'].apply(age_group) # создаётся новый признак по возрастным группам\n",
    "\n",
    "types = df.groupby(\"age_group\")['deposit'].value_counts(normalize=False).unstack()\n",
    "types.plot(kind='bar', stacked='True')\n",
    "\n",
    "df['age_group'].value_counts()\n"
   ]
  },
  {
   "cell_type": "markdown",
   "id": "0841c685",
   "metadata": {},
   "source": [
    "### Задания 9 и 10"
   ]
  },
  {
   "cell_type": "code",
   "execution_count": 16,
   "id": "0d84a9e1",
   "metadata": {},
   "outputs": [
    {
     "data": {
      "text/plain": [
       "<AxesSubplot:xlabel='marital'>"
      ]
     },
     "execution_count": 16,
     "metadata": {},
     "output_type": "execute_result"
    },
    {
     "data": {
      "image/png": "[encoded data removed]",
      "text/plain": [
       "<Figure size 432x288 with 1 Axes>"
      ]
     },
     "metadata": {
      "needs_background": "light"
     },
     "output_type": "display_data"
    }
   ],
   "source": [
    "# постройте визуализации для открывших и неоткрывших депозит в зависимости от семейного статуса\n",
    "types = df.groupby(\"marital\")['deposit'].value_counts(normalize=False).unstack()\n",
    "types.plot(kind='bar', stacked='True')"
   ]
  },
  {
   "cell_type": "code",
   "execution_count": 17,
   "id": "16333967",
   "metadata": {},
   "outputs": [
    {
     "data": {
      "text/plain": [
       "<AxesSubplot:xlabel='education'>"
      ]
     },
     "execution_count": 17,
     "metadata": {},
     "output_type": "execute_result"
    },
    {
     "data": {
      "image/png": "[encoded data removed]",
      "text/plain": [
       "<Figure size 432x288 with 1 Axes>"
      ]
     },
     "metadata": {
      "needs_background": "light"
     },
     "output_type": "display_data"
    }
   ],
   "source": [
    "# постройте визуализации для открывших и неоткрывших депозит в зависимости от образования\n",
    "types = df.groupby(\"education\")['deposit'].value_counts(normalize=False).unstack()\n",
    "types.plot(kind='bar', stacked='True')"
   ]
  },
  {
   "cell_type": "code",
   "execution_count": 18,
   "id": "738224f8",
   "metadata": {},
   "outputs": [
    {
     "data": {
      "text/plain": [
       "<AxesSubplot:xlabel='job'>"
      ]
     },
     "execution_count": 18,
     "metadata": {},
     "output_type": "execute_result"
    },
    {
     "data": {
      "image/png": "[encoded data removed]",
      "text/plain": [
       "<Figure size 432x288 with 1 Axes>"
      ]
     },
     "metadata": {
      "needs_background": "light"
     },
     "output_type": "display_data"
    }
   ],
   "source": [
    "# постройте визуализации для открывших и неоткрывших депозит в зависимости от вида профессиональной занятости\n",
    "types = df.groupby(\"job\")['deposit'].value_counts(normalize=False).unstack()\n",
    "types.plot(kind='bar', stacked='True')"
   ]
  },
  {
   "cell_type": "markdown",
   "id": "a521e204",
   "metadata": {},
   "source": [
    "### Задание 11"
   ]
  },
  {
   "cell_type": "code",
   "execution_count": 19,
   "id": "35ab0413",
   "metadata": {},
   "outputs": [
    {
     "data": {
      "image/png": "[encoded data removed]",
      "text/plain": [
       "<Figure size 432x288 with 2 Axes>"
      ]
     },
     "metadata": {
      "needs_background": "light"
     },
     "output_type": "display_data"
    }
   ],
   "source": [
    "# постройте сводную таблицу, чтобы определить люди с каким образованием и семейным статусом наиболее многочисленны\n",
    "#(если рассматривать тех, кто открыл депозит)  \n",
    "# types = pd.pivot_table(df, #[(df['deposit'] == 'yes')],\n",
    "#                values='deposit', \n",
    "#                index=['education'],\n",
    "#                columns=['marital'], \n",
    "#                 aggfunc='value_counts')\n",
    "# \n",
    "# types.plot(kind='bar', stacked='True')\n",
    "\n",
    "types_1 = pd.pivot_table(df, #[(df['deposit'] == 'yes')],\n",
    "               values='deposit', \n",
    "               index=['education'],\n",
    "               columns=['marital'], \n",
    "                aggfunc='value_counts')\n",
    "\n",
    "heatmap = sns.heatmap(data=types_1, cmap='YlGnBu')\n",
    "heatmap.set_title('Тепловая карта ...', fontsize=16);\n",
    "\n"
   ]
  },
  {
   "cell_type": "markdown",
   "metadata": {},
   "source": [
    "## Часть 1. Знакомство с данными, обработка пропусков и выбросов\n",
    "\n",
    "**Данные о клиентах банка:**\n",
    "\n",
    "  * age (возраст);\n",
    "  * job (сфера занятости);\n",
    "  * marital (семейное положение);\n",
    "  * education (уровень образования);\n",
    "  * default (имеется ли просроченный кредит);\n",
    "  * housing (имеется ли кредит на жильё);\n",
    "  * loan (имеется ли кредит на личные нужды);\n",
    "  * balance (баланс).\n",
    "\n",
    "**Данные, связанные с последним контактом в контексте текущей маркетинговой кампании:**\n",
    "\n",
    "  * contact (тип контакта с клиентом);\n",
    "  * month (месяц, в котором был последний контакт);\n",
    "  * day (день, в который был последний контакт);\n",
    "  * duration (продолжительность контакта в секундах).\n",
    "\n",
    "**Прочие признаки:**\n",
    "\n",
    "  * campaign (количество контактов с этим клиентом в течение текущей кампании);\n",
    "  * pdays (количество пропущенных дней с момента последней маркетинговой кампании до контакта в текущей кампании);\n",
    "  * previous (количество контактов до текущей кампании)\n",
    "  * poutcome (результат прошлой маркетинговой кампании)."
   ]
  },
  {
   "cell_type": "markdown",
   "id": "dfd805c0",
   "metadata": {},
   "source": [
    "## Часть 3: преобразование данных"
   ]
  },
  {
   "cell_type": "markdown",
   "id": "e44e715b",
   "metadata": {},
   "source": [
    "### Задание 1"
   ]
  },
  {
   "cell_type": "code",
   "execution_count": 20,
   "id": "1e815773",
   "metadata": {},
   "outputs": [
    {
     "name": "stdout",
     "output_type": "stream",
     "text": [
      "Сумма получившихся значений для признака education:  11995\n"
     ]
    }
   ],
   "source": [
    "# преобразуйте уровни образования\n",
    "from sklearn.preprocessing import LabelEncoder# instantiate labelencoder object\n",
    "le = preprocessing.LabelEncoder() # указываем столбец для кодирования\n",
    "\n",
    "df['education'] = le.fit_transform(df['education'])\n",
    "df['age'] = le.fit_transform(df['age'])\n",
    "print('Сумма получившихся значений для признака education: ', df['education'].sum())\n",
    "\n",
    "# from sklearn.preprocessing import LabelBinarizer\n",
    "# encoder = LabelBinarizer()\n",
    "# df['deposit'] = encoder.fit_transform(df['deposit'])\n",
    "# \n",
    "# round(df['deposit'].std(), 3)\n"
   ]
  },
  {
   "cell_type": "markdown",
   "id": "8c93e73d",
   "metadata": {},
   "source": [
    "### Задания 2 и 3"
   ]
  },
  {
   "cell_type": "code",
   "execution_count": 21,
   "id": "626a5762",
   "metadata": {},
   "outputs": [
    {
     "name": "stdout",
     "output_type": "stream",
     "text": [
      "Стандартное отклонение deposit 0.499\n",
      "Суммма средних default, housing, loan 0.635\n"
     ]
    }
   ],
   "source": [
    "# преобразуйте бинарные переменные в представление из нулей и единиц\n",
    "df['deposit'] = df['deposit'].apply(lambda x: 1 if x == 'yes' else 0)\n",
    "df['default'] = df['default'].apply(lambda x: 1 if x == 'yes' else 0)\n",
    "df['housing'] = df['housing'].apply(lambda x: 1 if x == 'yes' else 0)\n",
    "df['loan'] = df['loan'].apply(lambda x: 1 if x == 'yes' else 0)\n",
    "\n",
    "print (f\"Стандартное отклонение deposit {round(st.stdev(df['deposit']),3)}\")\n",
    "print(f\"Суммма средних default, housing, loan {round( st.mean(df['default'])+st.mean(df['housing'])+st.mean(df['loan']),3)}\")"
   ]
  },
  {
   "cell_type": "markdown",
   "id": "c40dc02a",
   "metadata": {},
   "source": [
    "### Задание 4"
   ]
  },
  {
   "cell_type": "code",
   "execution_count": 22,
   "id": "b996883f",
   "metadata": {},
   "outputs": [
    {
     "data": {
      "text/plain": [
       "(10105, 50)"
      ]
     },
     "execution_count": 22,
     "metadata": {},
     "output_type": "execute_result"
    }
   ],
   "source": [
    "# создайте дамми-переменные\n",
    "df_dummies =pd.get_dummies(df)\n",
    "df_dummies.shape"
   ]
  },
  {
   "cell_type": "markdown",
   "id": "9a23e318",
   "metadata": {},
   "source": [
    "### Задания 5 и 6"
   ]
  },
  {
   "cell_type": "code",
   "execution_count": 23,
   "id": "1c884c1a",
   "metadata": {},
   "outputs": [
    {
     "data": {
      "image/png": "[encoded data removed]",
      "text/plain": [
       "<Figure size 432x288 with 1 Axes>"
      ]
     },
     "metadata": {
      "needs_background": "light"
     },
     "output_type": "display_data"
    }
   ],
   "source": [
    "# постройте корреляционную матрицу и оцените данные на предмет наличия мультиколлинеарности\n",
    "corr = df_dummies.corr()\n",
    "# fig, ax = plt.subplots(figsize=(25,30))\n",
    "# sns.heatmap(corr, annot=True, linewidths=.5, ax=ax)\n",
    "\n",
    "corr[\"deposit\"].apply(lambda x: abs(x)).sort_values()[-5:-1].plot.barh()\n",
    "plt.title(\"Correlation with deposit\", fontsize = 16)\n",
    "plt.show()\n",
    "\n",
    "# Удалим самые сильно скоррелированные пары\n",
    "# df_dummies = df_dummies.drop([], axis=1)\n",
    "\n",
    "# Проверяем, что сильно скоррелированных признаков не осталось\n",
    "# sns.heatmap(df_dummies.corr(), annot=True, linewidths=.5, ax=ax)"
   ]
  },
  {
   "cell_type": "markdown",
   "id": "b5b4c1a5",
   "metadata": {},
   "source": [
    "### Задания 7 и 8"
   ]
  },
  {
   "cell_type": "code",
   "execution_count": 24,
   "id": "79f3e432",
   "metadata": {},
   "outputs": [
    {
     "name": "stdout",
     "output_type": "stream",
     "text": [
      "Train: (6770, 49) (6770,)\n",
      "Test: (3335, 49) (3335,)\n"
     ]
    }
   ],
   "source": [
    "\n",
    "X = df_dummies.drop(['deposit'], axis=1)\n",
    "y = df_dummies['deposit']\n",
    " \n",
    "X_train, X_test, y_train, y_test = train_test_split(X, y, stratify=y, random_state = 42, test_size = 0.33)\n",
    "print('Train:', X_train.shape, y_train.shape)\n",
    "print('Test:', X_test.shape, y_test.shape)"
   ]
  },
  {
   "cell_type": "code",
   "execution_count": 25,
   "id": "e3a097a4",
   "metadata": {},
   "outputs": [
    {
     "name": "stdout",
     "output_type": "stream",
     "text": [
      "Среднее значение целевыой переменной в тестовой выборке 0.46\n"
     ]
    }
   ],
   "source": [
    "# рассчитайте необходимые показатели\n",
    "print(f\"Среднее значение целевыой переменной в тестовой выборке {round(st.mean(y_test),2)}\")\n"
   ]
  },
  {
   "cell_type": "markdown",
   "id": "2e381a4f",
   "metadata": {},
   "source": [
    "### Задание 9"
   ]
  },
  {
   "cell_type": "code",
   "execution_count": 26,
   "id": "0f6e03e0",
   "metadata": {},
   "outputs": [
    {
     "name": "stdout",
     "output_type": "stream",
     "text": [
      "['balance' 'housing' 'duration' 'campaign' 'pdays' 'previous'\n",
      " 'contact_cellular' 'contact_unknown' 'month_mar' 'month_may' 'month_oct'\n",
      " 'month_sep' 'poutcome_success' 'poutcome_unknown' 'age_group_60+']\n"
     ]
    }
   ],
   "source": [
    "# с помощью SelectKBest отберите 15 наиболее подходящих признаков\n",
    "# df.select_dtypes(include='number') # мы получим только те столбцы, которые являются числовыми.\n",
    "selector = SelectKBest(score_func = f_classif, k=15)\n",
    "selector.fit(X_train, y_train)\n",
    "columns = selector.get_feature_names_out()\n",
    " \n",
    "print(columns)\n",
    "X_train = X_train[columns]\n",
    "X_test = X_test[columns]\n",
    "# X_test\n"
   ]
  },
  {
   "cell_type": "markdown",
   "id": "60132ef3",
   "metadata": {},
   "source": [
    "### Задание 10"
   ]
  },
  {
   "cell_type": "code",
   "execution_count": 27,
   "id": "e91b06f3",
   "metadata": {},
   "outputs": [
    {
     "name": "stdout",
     "output_type": "stream",
     "text": [
      "0.46823674223097866\n"
     ]
    }
   ],
   "source": [
    "# нормализуйте данные с помощью minmaxsxaler\n",
    "scaler = preprocessing.MinMaxScaler()\n",
    "scaler.fit(X_train)                           # fit() только на train данных\n",
    "X_train_scaled = scaler.transform(X_train)    # fransform() на train данных\n",
    "X_test_scaled = scaler.transform(X_test)      # fransform() на test данных\n",
    "\n",
    "print(X_test_scaled[:, 0].mean())  # для признака balance, обратите внимание именно на столбец"
   ]
  },
  {
   "cell_type": "markdown",
   "id": "0894c632",
   "metadata": {},
   "source": [
    "# Часть 4: Решение задачи классификации: логистическая регрессия и решающие деревья"
   ]
  },
  {
   "cell_type": "markdown",
   "id": "41b8ff06",
   "metadata": {},
   "source": [
    "### Задание 1"
   ]
  },
  {
   "cell_type": "code",
   "execution_count": 28,
   "id": "8acc0166",
   "metadata": {},
   "outputs": [
    {
     "name": "stdout",
     "output_type": "stream",
     "text": [
      "Test accuracy: 0.804\n"
     ]
    }
   ],
   "source": [
    "# обучите логистическую регрессию и рассчитайте метрики качества\n",
    "log_reg = linear_model.LogisticRegression(\n",
    "    solver='sag', \n",
    "    random_state=42, \n",
    "    max_iter=1000 )\n",
    "\n",
    "log_reg.fit(X_train_scaled, y_train)\n",
    "\n",
    "y_pred = log_reg.predict(X_test_scaled)\n",
    "print('Test accuracy: {:.3f}'.format(metrics.accuracy_score(y_test, y_pred)))"
   ]
  },
  {
   "cell_type": "markdown",
   "id": "29b7e0ba",
   "metadata": {},
   "source": [
    "### Задания 2,3,4"
   ]
  },
  {
   "cell_type": "code",
   "execution_count": 30,
   "id": "c91a588b",
   "metadata": {},
   "outputs": [
    {
     "name": "stdout",
     "output_type": "stream",
     "text": [
      "Train: 1.00\n",
      "Test: 0.73\n"
     ]
    }
   ],
   "source": [
    "# обучите решающие деревья, настройте максимальную глубину\n",
    "dt = tree.DecisionTreeClassifier(\n",
    "    random_state=42,\n",
    "    criterion = 'entropy'\n",
    "    )\n",
    "\n",
    "#Обучаем модель\n",
    "dt.fit(X_train_scaled, y_train)\n",
    "#Выводим значения метрики \n",
    "y_train_pred = dt.predict(X_train_scaled)\n",
    "print('Train: {:.2f}'.format(metrics.f1_score(y_train, y_train_pred)))\n",
    "y_test_pred = dt.predict(X_test_scaled)\n",
    "print('Test: {:.2f}'.format(metrics.f1_score(y_test, y_test_pred)))"
   ]
  },
  {
   "cell_type": "markdown",
   "id": "fe823c18",
   "metadata": {},
   "source": [
    "### Задание 5"
   ]
  },
  {
   "cell_type": "code",
   "execution_count": 35,
   "id": "63574943",
   "metadata": {},
   "outputs": [
    {
     "name": "stdout",
     "output_type": "stream",
     "text": [
      "CPU times: total: 188 ms\n",
      "Wall time: 242 ms\n",
      "f1_score на обучающем наборе: 0.84\n",
      "accuracy на тестовом наборе: 0.80\n",
      "f1_score на тестовом наборе: 0.79\n",
      "Наилучшие значения гиперпараметров: {'max_depth': 10}\n"
     ]
    }
   ],
   "source": [
    "# подберите оптимальные параметры с помощью gridsearch\n",
    "from sklearn.model_selection import GridSearchCV\n",
    "\n",
    "param_grid = {\n",
    "    #'min_samples_split':  [2, 5, 7, 10],\n",
    "    'max_depth':[3, 5, 6, 7, 8, 9, 10, 11, 12, 13]\n",
    "}\n",
    "            \n",
    "grid_search_tree = GridSearchCV(\n",
    "    estimator=dt, \n",
    "    param_grid = param_grid, \n",
    "    cv=5, \n",
    "    n_jobs = -1\n",
    ")  \n",
    "           \n",
    "\n",
    "%time grid_search_tree.fit(X_train_scaled, y_train) \n",
    "y_train_pred = grid_search_tree.predict(X_train_scaled)\n",
    "print('f1_score на обучающем наборе: {:.2f}'.format(metrics.f1_score(y_train, y_train_pred)))\n",
    "print(\"accuracy на тестовом наборе: {:.2f}\".format(grid_search_tree.score(X_test_scaled, y_test)))\n",
    "y_test_pred = grid_search_tree.predict(X_test_scaled)\n",
    "print('f1_score на тестовом наборе: {:.2f}'.format(metrics.f1_score(y_test, y_test_pred)))\n",
    "print(\"Наилучшие значения гиперпараметров: {}\".format(grid_search_tree.best_params_))\n"
   ]
  },
  {
   "cell_type": "markdown",
   "id": "ed0fc831",
   "metadata": {},
   "source": [
    "# Часть 5: Решение задачи классификации: ансамбли моделей и построение прогноза"
   ]
  },
  {
   "cell_type": "markdown",
   "id": "f9e36ff2",
   "metadata": {},
   "source": [
    "### Задание 1"
   ]
  },
  {
   "cell_type": "code",
   "execution_count": 36,
   "id": "e708e3fe",
   "metadata": {},
   "outputs": [
    {
     "name": "stdout",
     "output_type": "stream",
     "text": [
      "CPU times: total: 500 ms\n",
      "Wall time: 502 ms\n",
      "f1_score на обучающем наборе: 0.84\n",
      "accuracy на тестовом наборе: 0.83\n",
      "f1_score на тестовом наборе: 0.816\n",
      "recall на тестовом наборе:: 0.831\n"
     ]
    }
   ],
   "source": [
    "# обучите на ваших данных случайный лес\n",
    "rf = ensemble.RandomForestClassifier(\n",
    "    n_estimators=100,\n",
    "    criterion='gini',\n",
    "    min_samples_leaf=5,\n",
    "    max_depth=10,\n",
    "    random_state=42\n",
    ")\n",
    "#Обучаем модель\n",
    "%time rf.fit(X_train_scaled, y_train)\n",
    "\n",
    "y_train_pred = rf.predict(X_train_scaled)\n",
    "print('f1_score на обучающем наборе: {:.2f}'.format(metrics.f1_score(y_train, y_train_pred)))\n",
    "print(\"accuracy на тестовом наборе: {:.2f}\".format(rf.score(X_test_scaled, y_test)))\n",
    "y_test_pred = rf.predict(X_test_scaled)\n",
    "print('f1_score на тестовом наборе: {:.3f}'.format(metrics.f1_score(y_test, y_test_pred)))\n",
    "print('recall на тестовом наборе:: {:.3f}'.format(metrics.recall_score(y_test, y_test_pred)))"
   ]
  },
  {
   "cell_type": "markdown",
   "id": "71d7b13d",
   "metadata": {},
   "source": [
    "### Задания 2 и 3"
   ]
  },
  {
   "cell_type": "code",
   "execution_count": 37,
   "id": "99f12dfe",
   "metadata": {},
   "outputs": [
    {
     "name": "stdout",
     "output_type": "stream",
     "text": [
      "CPU times: total: 3.33 s\n",
      "Wall time: 3.33 s\n",
      "f1_score на тестовом наборе: 0.816\n"
     ]
    }
   ],
   "source": [
    "# используйте для классификации градиентный бустинг и сравните качество со случайным лесом\n",
    "gb = ensemble.GradientBoostingClassifier(\n",
    "    learning_rate=0.05,\n",
    "    n_estimators=300,\n",
    "    min_samples_leaf=5,\n",
    "    max_depth=5,\n",
    "    random_state=42\n",
    ")\n",
    "gb.fit(X_train_scaled, y_train)\n",
    "\n",
    "%time gb.fit(X_train_scaled, y_train)\n",
    "\n",
    "y_test_pred_gb = rf.predict(X_test_scaled)\n",
    "\n",
    "print('f1_score на тестовом наборе: {:.3f}'.format(metrics.f1_score(y_test, y_test_pred_gb)))"
   ]
  },
  {
   "cell_type": "markdown",
   "id": "b08718ae",
   "metadata": {},
   "source": [
    "### Задание 4"
   ]
  },
  {
   "cell_type": "code",
   "execution_count": 38,
   "id": "0bd42fb0",
   "metadata": {},
   "outputs": [
    {
     "name": "stdout",
     "output_type": "stream",
     "text": [
      "CPU times: total: 18.5 s\n",
      "Wall time: 18.3 s\n",
      "f1_score на обучающем наборе: 0.85\n",
      "accuracy на тестовом наборе: 0.83\n",
      "f1_score на тестовом наборе: 0.807\n",
      "recall на тестовом наборе:: 0.804\n",
      "precision на тестовом наборе:: 0.810\n"
     ]
    }
   ],
   "source": [
    "# объедините уже известные вам алгоритмы с помощью стекинга \n",
    "estimators = [\n",
    "    ('dt', tree.DecisionTreeClassifier(\n",
    "        criterion='entropy',\n",
    "        min_samples_leaf=5,\n",
    "        max_depth=6,\n",
    "        random_state=42\n",
    "        )\n",
    "    ),\n",
    "    ('log_reg', linear_model.LogisticRegression(\n",
    "        solver='sag',\n",
    "        random_state=42 \n",
    "        )\n",
    "    ),\n",
    "    ('gb', ensemble.GradientBoostingClassifier(\n",
    "        learning_rate=0.05,\n",
    "        n_estimators=300,\n",
    "        min_samples_leaf=5,\n",
    "        max_depth=5,\n",
    "        random_state=42\n",
    "        )\n",
    "    )\n",
    "]\n",
    "\n",
    "stack = ensemble.StackingClassifier(\n",
    "    estimators,\n",
    "    final_estimator=linear_model.LogisticRegression(random_state=42)\n",
    ")\n",
    "\n",
    "#Обучаем модель\n",
    "%time stack.fit(X_train_scaled, y_train)\n",
    "\n",
    "y_train_pred = stack.predict(X_train_scaled)\n",
    "print('f1_score на обучающем наборе: {:.2f}'.format(metrics.f1_score(y_train, y_train_pred)))\n",
    "print(\"accuracy на тестовом наборе: {:.2f}\".format(rf.score(X_test_scaled, y_test)))\n",
    "y_test_pred = stack.predict(X_test_scaled)\n",
    "print('f1_score на тестовом наборе: {:.3f}'.format(metrics.f1_score(y_test, y_test_pred)))\n",
    "print('recall на тестовом наборе:: {:.3f}'.format(metrics.recall_score(y_test, y_test_pred)))\n",
    "print('precision на тестовом наборе:: {:.3f}'.format(metrics.precision_score(y_test, y_test_pred)))"
   ]
  },
  {
   "cell_type": "markdown",
   "id": "6247a5fb",
   "metadata": {},
   "source": [
    "### Задание 5"
   ]
  },
  {
   "cell_type": "code",
   "execution_count": 51,
   "id": "35de769c",
   "metadata": {},
   "outputs": [
    {
     "data": {
      "text/plain": [
       "array(['balance', 'duration', 'poutcome_success'], dtype=object)"
      ]
     },
     "execution_count": 51,
     "metadata": {},
     "output_type": "execute_result"
    }
   ],
   "source": [
    "# оцените, какие признаки демонстрируют наибольшую  важность в модели градиентного бустинга\n",
    "from sklearn.feature_selection import RFE\n",
    "\n",
    "X_train_scaled = pd.DataFrame(data=X_train_scaled, columns=X_train.columns) \n",
    "X_train_scaled\n",
    "\n",
    "estimator = gb\n",
    "selector = RFE(estimator, n_features_to_select=3, step=1)\n",
    "selector = selector.fit(X_train_scaled, y_train)\n",
    " \n",
    "columns_gb = selector.get_feature_names_out()\n",
    "columns_gb"
   ]
  },
  {
   "cell_type": "markdown",
   "id": "96974dda",
   "metadata": {},
   "source": [
    "### Задания 6,7,8"
   ]
  },
  {
   "cell_type": "code",
   "execution_count": 39,
   "id": "c48e29e9",
   "metadata": {},
   "outputs": [
    {
     "name": "stderr",
     "output_type": "stream",
     "text": [
      "\u001b[32m[I 2022-10-13 22:42:55,720]\u001b[0m A new study created in memory with name: RandomForestClassifier\u001b[0m\n",
      "\u001b[32m[I 2022-10-13 22:42:56,655]\u001b[0m Trial 0 finished with value: 0.8425692695214105 and parameters: {'n_estimators': 167, 'max_depth': 21, 'min_samples_leaf': 9}. Best is trial 0 with value: 0.8425692695214105.\u001b[0m\n",
      "\u001b[32m[I 2022-10-13 22:42:57,356]\u001b[0m Trial 1 finished with value: 0.8444934614778635 and parameters: {'n_estimators': 125, 'max_depth': 28, 'min_samples_leaf': 9}. Best is trial 1 with value: 0.8444934614778635.\u001b[0m\n",
      "\u001b[32m[I 2022-10-13 22:42:58,277]\u001b[0m Trial 2 finished with value: 0.8411597856917743 and parameters: {'n_estimators': 169, 'max_depth': 12, 'min_samples_leaf': 8}. Best is trial 1 with value: 0.8444934614778635.\u001b[0m\n",
      "\u001b[32m[I 2022-10-13 22:42:59,081]\u001b[0m Trial 3 finished with value: 0.8455029771231589 and parameters: {'n_estimators': 147, 'max_depth': 22, 'min_samples_leaf': 9}. Best is trial 3 with value: 0.8455029771231589.\u001b[0m\n",
      "\u001b[32m[I 2022-10-13 22:42:59,895]\u001b[0m Trial 4 finished with value: 0.851968503937008 and parameters: {'n_estimators': 142, 'max_depth': 11, 'min_samples_leaf': 3}. Best is trial 4 with value: 0.851968503937008.\u001b[0m\n",
      "\u001b[32m[I 2022-10-13 22:43:00,514]\u001b[0m Trial 5 finished with value: 0.8355991147644641 and parameters: {'n_estimators': 116, 'max_depth': 10, 'min_samples_leaf': 8}. Best is trial 4 with value: 0.851968503937008.\u001b[0m\n",
      "\u001b[32m[I 2022-10-13 22:43:01,123]\u001b[0m Trial 6 finished with value: 0.8520207579808146 and parameters: {'n_estimators': 109, 'max_depth': 10, 'min_samples_leaf': 2}. Best is trial 6 with value: 0.8520207579808146.\u001b[0m\n",
      "\u001b[32m[I 2022-10-13 22:43:02,086]\u001b[0m Trial 7 finished with value: 0.8627328220378776 and parameters: {'n_estimators': 160, 'max_depth': 21, 'min_samples_leaf': 5}. Best is trial 7 with value: 0.8627328220378776.\u001b[0m\n",
      "\u001b[32m[I 2022-10-13 22:43:02,847]\u001b[0m Trial 8 finished with value: 0.8499843407453804 and parameters: {'n_estimators': 127, 'max_depth': 13, 'min_samples_leaf': 5}. Best is trial 7 with value: 0.8627328220378776.\u001b[0m\n",
      "\u001b[32m[I 2022-10-13 22:43:03,893]\u001b[0m Trial 9 finished with value: 0.8625058657907085 and parameters: {'n_estimators': 174, 'max_depth': 20, 'min_samples_leaf': 5}. Best is trial 7 with value: 0.8627328220378776.\u001b[0m\n",
      "\u001b[32m[I 2022-10-13 22:43:05,049]\u001b[0m Trial 10 finished with value: 0.8553518257326438 and parameters: {'n_estimators': 194, 'max_depth': 30, 'min_samples_leaf': 6}. Best is trial 7 with value: 0.8627328220378776.\u001b[0m\n",
      "\u001b[32m[I 2022-10-13 22:43:06,123]\u001b[0m Trial 11 finished with value: 0.8619391277063069 and parameters: {'n_estimators': 175, 'max_depth': 17, 'min_samples_leaf': 4}. Best is trial 7 with value: 0.8627328220378776.\u001b[0m\n",
      "\u001b[32m[I 2022-10-13 22:43:07,252]\u001b[0m Trial 12 finished with value: 0.8563838099703078 and parameters: {'n_estimators': 191, 'max_depth': 25, 'min_samples_leaf': 6}. Best is trial 7 with value: 0.8627328220378776.\u001b[0m\n",
      "\u001b[32m[I 2022-10-13 22:43:08,231]\u001b[0m Trial 13 finished with value: 0.8685034439574203 and parameters: {'n_estimators': 156, 'max_depth': 18, 'min_samples_leaf': 4}. Best is trial 13 with value: 0.8685034439574203.\u001b[0m\n",
      "\u001b[32m[I 2022-10-13 22:43:09,193]\u001b[0m Trial 14 finished with value: 0.8592522777254162 and parameters: {'n_estimators': 156, 'max_depth': 16, 'min_samples_leaf': 4}. Best is trial 13 with value: 0.8685034439574203.\u001b[0m\n",
      "\u001b[32m[I 2022-10-13 22:43:10,151]\u001b[0m Trial 15 finished with value: 0.9002517306482063 and parameters: {'n_estimators': 136, 'max_depth': 17, 'min_samples_leaf': 2}. Best is trial 15 with value: 0.9002517306482063.\u001b[0m\n",
      "\u001b[32m[I 2022-10-13 22:43:11,094]\u001b[0m Trial 16 finished with value: 0.892249527410208 and parameters: {'n_estimators': 137, 'max_depth': 16, 'min_samples_leaf': 2}. Best is trial 15 with value: 0.9002517306482063.\u001b[0m\n",
      "\u001b[32m[I 2022-10-13 22:43:12,012]\u001b[0m Trial 17 finished with value: 0.8912941176470589 and parameters: {'n_estimators': 134, 'max_depth': 16, 'min_samples_leaf': 2}. Best is trial 15 with value: 0.9002517306482063.\u001b[0m\n",
      "\u001b[32m[I 2022-10-13 22:43:12,682]\u001b[0m Trial 18 finished with value: 0.8729107537054557 and parameters: {'n_estimators': 101, 'max_depth': 14, 'min_samples_leaf': 2}. Best is trial 15 with value: 0.9002517306482063.\u001b[0m\n",
      "\u001b[32m[I 2022-10-13 22:43:13,623]\u001b[0m Trial 19 finished with value: 0.8880212400437295 and parameters: {'n_estimators': 138, 'max_depth': 24, 'min_samples_leaf': 3}. Best is trial 15 with value: 0.9002517306482063.\u001b[0m\n",
      "\u001b[32m[I 2022-10-13 22:43:14,422]\u001b[0m Trial 20 finished with value: 0.8685696361355082 and parameters: {'n_estimators': 122, 'max_depth': 15, 'min_samples_leaf': 3}. Best is trial 15 with value: 0.9002517306482063.\u001b[0m\n",
      "\u001b[32m[I 2022-10-13 22:43:15,415]\u001b[0m Trial 21 finished with value: 0.9014925373134328 and parameters: {'n_estimators': 135, 'max_depth': 18, 'min_samples_leaf': 2}. Best is trial 21 with value: 0.9014925373134328.\u001b[0m\n",
      "\u001b[32m[I 2022-10-13 22:43:16,408]\u001b[0m Trial 22 finished with value: 0.9085768143261075 and parameters: {'n_estimators': 133, 'max_depth': 19, 'min_samples_leaf': 2}. Best is trial 22 with value: 0.9085768143261075.\u001b[0m\n",
      "\u001b[32m[I 2022-10-13 22:43:17,321]\u001b[0m Trial 23 finished with value: 0.883851805533844 and parameters: {'n_estimators': 132, 'max_depth': 19, 'min_samples_leaf': 3}. Best is trial 22 with value: 0.9085768143261075.\u001b[0m\n",
      "\u001b[32m[I 2022-10-13 22:43:18,422]\u001b[0m Trial 24 finished with value: 0.9178363034221731 and parameters: {'n_estimators': 146, 'max_depth': 23, 'min_samples_leaf': 2}. Best is trial 24 with value: 0.9178363034221731.\u001b[0m\n",
      "\u001b[32m[I 2022-10-13 22:43:19,456]\u001b[0m Trial 25 finished with value: 0.8885758998435056 and parameters: {'n_estimators': 148, 'max_depth': 24, 'min_samples_leaf': 3}. Best is trial 24 with value: 0.9178363034221731.\u001b[0m\n",
      "\u001b[32m[I 2022-10-13 22:43:20,177]\u001b[0m Trial 26 finished with value: 0.8517181860975992 and parameters: {'n_estimators': 118, 'max_depth': 26, 'min_samples_leaf': 7}. Best is trial 24 with value: 0.9178363034221731.\u001b[0m\n",
      "\u001b[32m[I 2022-10-13 22:43:21,159]\u001b[0m Trial 27 finished with value: 0.8726533166458073 and parameters: {'n_estimators': 145, 'max_depth': 23, 'min_samples_leaf': 4}. Best is trial 24 with value: 0.9178363034221731.\u001b[0m\n",
      "\u001b[32m[I 2022-10-13 22:43:22,005]\u001b[0m Trial 28 finished with value: 0.9039157100172982 and parameters: {'n_estimators': 109, 'max_depth': 19, 'min_samples_leaf': 2}. Best is trial 24 with value: 0.9178363034221731.\u001b[0m\n",
      "\u001b[32m[I 2022-10-13 22:43:22,759]\u001b[0m Trial 29 finished with value: 0.8859731333958137 and parameters: {'n_estimators': 108, 'max_depth': 21, 'min_samples_leaf': 3}. Best is trial 24 with value: 0.9178363034221731.\u001b[0m\n"
     ]
    },
    {
     "name": "stdout",
     "output_type": "stream",
     "text": [
      "Наилучшие значения гиперпараметров {'n_estimators': 146, 'max_depth': 23, 'min_samples_leaf': 2}\n",
      "f1_score на обучающем наборе: 0.92\n",
      "accuracy на тестовом наборе: 0.82\n",
      "f1_score на тестовом наборе: 0.81\n",
      "accuracy на тестовом наборе: 0.82\n",
      "CPU times: total: 28.9 s\n",
      "Wall time: 28.9 s\n"
     ]
    }
   ],
   "source": [
    "%%time\n",
    "import optuna\n",
    "# реализуйте оптимизацию гиперпараметров с помощью Optuna\n",
    "def optuna_rf(trial):\n",
    "  # задаем пространства поиска гиперпараметров\n",
    "  n_estimators = trial.suggest_int('n_estimators', 100, 200, 1)\n",
    "  max_depth = trial.suggest_int('max_depth', 10, 30, 1)\n",
    "  min_samples_leaf = trial.suggest_int('min_samples_leaf', 2, 10, 1)\n",
    "\n",
    "  # создаем модель\n",
    "  model = ensemble.RandomForestClassifier(n_estimators=n_estimators,\n",
    "                                          max_depth=max_depth,\n",
    "                                          min_samples_leaf=min_samples_leaf)\n",
    "                                          #random_state=42)\n",
    "  # обучаем модель\n",
    "  model.fit(X_train_scaled, y_train)\n",
    "  score = metrics.f1_score(y_train, model.predict(X_train_scaled))\n",
    "\n",
    "  return score\n",
    "\n",
    "# cоздаем объект исследования\n",
    "# можем напрямую указать, что нам необходимо максимизировать метрику direction=\"maximize\"\n",
    "study = optuna.create_study(study_name=\"RandomForestClassifier\", direction=\"maximize\")\n",
    "# ищем лучшую комбинацию гиперпараметров n_trials раз\n",
    "study.optimize(optuna_rf, n_trials=30)\n",
    "\n",
    "print(\"Наилучшие значения гиперпараметров {}\".format(study.best_params))\n",
    "print(\"f1_score на обучающем наборе: {:.2f}\".format(study.best_value))\n",
    "\n",
    "# рассчитаем точность для тестовой выборки\n",
    "model = ensemble.RandomForestClassifier(**study.best_params)\n",
    "model.fit(X_train_scaled, y_train)\n",
    "y_train_pred = model.predict(X_train_scaled)\n",
    "print(\"accuracy на тестовом наборе: {:.2f}\".format(model.score(X_test_scaled, y_test)))\n",
    "y_test_pred = model.predict(X_test_scaled)\n",
    "print('f1_score на тестовом наборе: {:.2f}'.format(metrics.f1_score(y_test, y_test_pred)))\n",
    "y_test_pred = model.predict(X_test_scaled)\n",
    "print('accuracy на тестовом наборе: {:.2f}'.format(metrics.accuracy_score(y_test, y_test_pred)))"
   ]
  }
 ],
 "metadata": {
  "kernelspec": {
   "display_name": "Python 3.9.12 ('base')",
   "language": "python",
   "name": "python3"
  },
  "language_info": {
   "codemirror_mode": {
    "name": "ipython",
    "version": 3
   },
   "file_extension": ".py",
   "mimetype": "text/x-python",
   "name": "python",
   "nbconvert_exporter": "python",
   "pygments_lexer": "ipython3",
   "version": "3.9.12"
  },
  "vscode": {
   "interpreter": {
    "hash": "ad2bdc8ecc057115af97d19610ffacc2b4e99fae6737bb82f5d7fb13d2f2c186"
   }
  }
 },
 "nbformat": 4,
 "nbformat_minor": 5
}
